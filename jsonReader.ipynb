{
  "cells": [
    {
      "cell_type": "markdown",
      "metadata": {
        "id": "view-in-github",
        "colab_type": "text"
      },
      "source": [
        "<a href=\"https://colab.research.google.com/github/seokiho/kisti-police/blob/main/jsonReader_ipynb%EC%9D%98_%EC%82%AC%EB%B3%B8.ipynb\" target=\"_parent\"><img src=\"https://colab.research.google.com/assets/colab-badge.svg\" alt=\"Open In Colab\"/></a>"
      ]
    },
    {
      "cell_type": "code",
      "execution_count": null,
      "metadata": {
        "id": "iWUAASNoJHqv",
        "outputId": "e2f80515-cdc4-4f00-c298-f1250001fca7",
        "colab": {
          "base_uri": "https://localhost:8080/"
        }
      },
      "outputs": [
        {
          "output_type": "stream",
          "name": "stdout",
          "text": [
            "Mounted at /content/gdrive\n"
          ]
        }
      ],
      "source": [
        "from google.colab import drive\n",
        "drive.mount('/content/gdrive')"
      ]
    },
    {
      "cell_type": "code",
      "source": [
        "import csv\n",
        "import json\n",
        "import pandas as pd\n",
        "import numpy as np\n",
        "import seaborn as sns\n",
        "\n",
        "\n",
        "from sklearn.feature_extraction.text import TfidfVectorizer\n",
        "from sklearn.metrics.pairwise import cosine_similarity, manhattan_distances, euclidean_distances\n",
        "\n",
        "from sklearn.feature_extraction.text import CountVectorizer\n",
        "from sklearn.metrics.pairwise import cosine_similarity\n",
        "\n"
      ],
      "metadata": {
        "id": "8gbjp5MkKvqS"
      },
      "execution_count": null,
      "outputs": []
    },
    {
      "cell_type": "code",
      "source": [
        "\n",
        "\n",
        "# JSON Data structure\n",
        "#\n",
        "#   \"score\": {\n",
        "#     \"-NOhScUFQniRJwhbp85s\": {\n",
        "#       \"crm_set\": 1,\n",
        "#       \"date_set\": 1,\n",
        "#       \"dtime\": \"15:11:55\",\n",
        "#       \"key\": \"-NOhScUFQniRJwhbp85s\",\n",
        "#       \"score_cos\": 52.81,\n",
        "#       \"score_lcs\": 19.91,\n",
        "#       \"subj_set\": 0,\n",
        "#       \"text_con\": \"2023. 2. 11. 09:30경 장소모르는 곳에서 피해자 김피해에게 아들 이철수라고 하며 카카오톡을 통하여 50만원을 입금해달라고 연락하였다.  이에 속은 피해자는 같은 날 10:20경 김범인 명의 국민은행 계좌(638010064222)로 50만원을 입금하였다.\",\n",
        "#       \"whr_set\": 1,\n",
        "#       \"word_set\": 1\n",
        "#     },\n",
        "\n",
        "\n",
        "def json_to_csv(input_file, output_file):\n",
        "    with open(input_file, 'r', encoding='utf-8') as f:\n",
        "        data = json.load(f)\n",
        "\n",
        "    # exraction list by fields' names\n",
        "    fields = [\"score_cos\", \"score_lcs\", \"text_con\"]\n",
        "\n",
        "    with open(output_file, 'w', newline='', encoding='utf-8') as f:\n",
        "        writer = csv.writer(f)\n",
        "        writer.writerow(fields)\n",
        "\n",
        "        for key, item in data[\"score\"].items():  # extract only key of \"score\" data\n",
        "            row = [item.get(field, None) for field in fields]\n",
        "            writer.writerow(row)\n",
        "\n",
        "\n",
        "# set the files' paths\n",
        "input_file_path = \"/content/gdrive/MyDrive/vltldtkdlxm312-default-rtdb-export.json\"\n",
        "output_file_path = \"/content/gdrive/MyDrive/output_all.csv\"\n",
        "\n",
        "# JSON TO CSV\n",
        "json_to_csv(input_file_path, output_file_path)\n",
        "\n"
      ],
      "metadata": {
        "id": "dRZhqCISKl9K"
      },
      "execution_count": null,
      "outputs": []
    },
    {
      "cell_type": "code",
      "source": [
        "\n",
        "input_csv_file = '/content/gdrive/MyDrive/output_all.csv'\n",
        "\n",
        "data = pd.read_csv(input_csv_file, encoding=\"utf-8\")\n",
        "\n",
        "# EDA, no blank trunk data\n",
        "\n",
        "data.info()\n",
        "\n",
        "# text_con에는 두 가지 시나리오로 구성되므로 라벨링이 필요\n",
        "# 텍스트 분류 기준은 답안 예시와 유사도 큰 것으로만 분류\n",
        "\n",
        "# String a = \"피혐의자는 2023. 2. 11. 09:30경 장소를 알 수 없는 곳에서 피해자 김피해에게 아들 이철수라고 하며 '급히 돈이 필요한데 휴대폰이 고장나서 OTP가 안되니 대신 송금해주면 집에서 돌려주겠다.'는 카카오톡 메시지를 보냈다. 피혐의자는 아들 이철수를 사칭하여 거짓말하였다. 피혐의자는 이에 속은 피해자로부터 같은 날 10:20경 김범인 명의 국민은행 계좌(638-01-0064-222)로 50만 원 교부받았다.\"\n",
        "# String b = \"피혐의자는 2023. 2. 11. 13:00경 장소를 알 수 없는 곳에서 피해자 나피해(38세, 여)에게 KB저축은행 대출상담원 김지영 실장으로 속이며 'KB캐피탈 대출'을 상환하면 저금리로 대환할 수 있다고 하였다. 피혐의자는 KB저축은행 앱을 설치하고 대출을 접수하면 심사 후 대출금을 지급해 주겠다고 하면서 원격접속용 앱을 설치하게 하고, 인터넷으로 대출신청서를 작성하게 하였다. 피혐의자는 같은 날 13:30경 '심사 중 대출 상환 위반 사실이 발견되어 기존 대출금을 갚아야 새로운 대출이 가능하다, 금융위원회 직원이 기존 대출금을 회수하러 방문할 테니, 그 직원에게 기존 대출금을 상환하면 된다.'는 취지로 거짓말하였다. 피혐의자는 사실 KB저축은행 직원이 아니었고 피해자에게 저금리 대환대출을 해줄 의사나 능력이 없었다. 피혐의자는 이에 속은 피해자로부터 같은 날 15:20경 충북 충주시 예성로 156에 있는 KB국민은행 충주지점 앞 노상에서 현금 1,580만 원을 교부받았다.\"\n",
        "\n",
        "sentence1 = \"피혐의자는 2023. 2. 11. 09:30경 장소를 알 수 없는 곳에서 피해자 김피해에게 아들 이철수라고 하며 '급히 돈이 필요한데 휴대폰이 고장나서 OTP가 안되니 대신 송금해주면 집에서 돌려주겠다.'는 카카오톡 메시지를 보냈다. 피혐의자는 아들 이철수를 사칭하여 거짓말하였다. 피혐의자는 이에 속은 피해자로부터 같은 날 10:20경 김범인 명의 국민은행 계좌(638-01-0064-222)로 50만 원 교부받았다.\"\n",
        "sentence2 = \"피혐의자는 2023. 2. 11. 13:00경 장소를 알 수 없는 곳에서 피해자 나피해(38세, 여)에게 KB저축은행 대출상담원 김지영 실장으로 속이며 'KB캐피탈 대출'을 상환하면 저금리로 대환할 수 있다고 하였다. 피혐의자는 KB저축은행 앱을 설치하고 대출을 접수하면 심사 후 대출금을 지급해 주겠다고 하면서 원격접속용 앱을 설치하게 하고, 인터넷으로 대출신청서를 작성하게 하였다. 피혐의자는 같은 날 13:30경 '심사 중 대출 상환 위반 사실이 발견되어 기존 대출금을 갚아야 새로운 대출이 가능하다, 금융위원회 직원이 기존 대출금을 회수하러 방문할 테니, 그 직원에게 기존 대출금을 상환하면 된다.'는 취지로 거짓말하였다. 피혐의자는 사실 KB저축은행 직원이 아니었고 피해자에게 저금리 대환대출을 해줄 의사나 능력이 없었다. 피혐의자는 이에 속은 피해자로부터 같은 날 15:20경 충북 충주시 예성로 156에 있는 KB국민은행 충주지점 앞 노상에서 현금 1,580만 원을 교부받았다.\"\n",
        "\n",
        "def calculate_text_similarity(input_text, sentence1, sentence2):\n",
        "    vectorizer = CountVectorizer().fit([input_text, sentence1, sentence2])\n",
        "\n",
        "    input_vector = vectorizer.transform([input_text])\n",
        "    vector1 = vectorizer.transform([sentence1])\n",
        "    vector2 = vectorizer.transform([sentence2])\n",
        "\n",
        "    similarity1 = cosine_similarity(input_vector, vector1)[0][0]\n",
        "    similarity2 = cosine_similarity(input_vector, vector2)[0][0]\n",
        "\n",
        "    return similarity1, similarity2\n",
        "\n",
        "\n",
        "df = pd.DataFrame(data)\n",
        "\n",
        "similarities = df.apply(lambda row: calculate_text_similarity(row['text_con'], sentence1,sentence2), axis=1)\n",
        "df['similarity1'] = similarities.apply(lambda x: x[0])\n",
        "df['similarity2'] = similarities.apply(lambda x: x[1])\n",
        "\n",
        "# 'classification'을 추가, 코사인 유사도에 따라 시나리오1(sentence1의 경우 : 0), 시나리오 2(sentence2의 경우 :1)로 분류\n",
        "df['classification'] = df.apply(lambda row: 'sentence1' if row['similarity1'] >= row['similarity2'] else 'sentence2', axis=1)\n",
        "\n",
        "print(df)\n",
        "\n",
        "sns.countplot(data=df, x='classification', order=['sentence1','sentence2'])\n",
        "\n",
        "\n",
        "\n"
      ],
      "metadata": {
        "id": "nwYlHMRDLlAB",
        "outputId": "2cd69a89-6251-4276-8709-fc7e7742a64c",
        "colab": {
          "base_uri": "https://localhost:8080/",
          "height": 1000
        }
      },
      "execution_count": null,
      "outputs": [
        {
          "output_type": "stream",
          "name": "stdout",
          "text": [
            "<class 'pandas.core.frame.DataFrame'>\n",
            "RangeIndex: 2350 entries, 0 to 2349\n",
            "Data columns (total 3 columns):\n",
            " #   Column     Non-Null Count  Dtype  \n",
            "---  ------     --------------  -----  \n",
            " 0   score_cos  2350 non-null   float64\n",
            " 1   score_lcs  2350 non-null   float64\n",
            " 2   text_con   2350 non-null   object \n",
            "dtypes: float64(2), object(1)\n",
            "memory usage: 55.2+ KB\n",
            "      score_cos  score_lcs                                           text_con  \\\n",
            "0         52.81      19.91  2023. 2. 11. 09:30경 장소모르는 곳에서 피해자 김피해에게 아들 이철수...   \n",
            "1         52.38      24.67  2023. 2. 11. 09:30경 장소를 알 수 없는 곳에서 피해자 김피해에게 아...   \n",
            "2         45.02      11.25  피혐의자는 2023. 2. 11. 09:30경 피해자에게 본인이 아들 이철수이며 카...   \n",
            "3         48.91      20.77  2023. 2. 20. 09:30경 피해자는 아들로 사칭한 자가 카톡으로 '급히 돈...   \n",
            "4         54.31       8.62  피혐의자는 2023. 2. 11. 09:30 경 장소 미상의 곳에서 아들 ‘철수’ ...   \n",
            "...         ...        ...                                                ...   \n",
            "2345      35.47      11.11  피혐의자는 2023. 2. 11. 09:30경 아들을 사칭하여 핸드폰이 고장나 연락...   \n",
            "2346      66.50       9.56  피혐의자는 2023. 2. 11. 09:30경 장소를 알 수 없는 곳에서 피해자 김...   \n",
            "2347      82.53      15.86  피혐의자는 2023. 2. 11. 13:00경 장소를 알 수 없는 곳에서 피해자 나...   \n",
            "2348      96.78      36.94  피혐의자는 2023. 2. 11. 13:00경 장소를 알 수 없는 곳에서 피해자 나...   \n",
            "2349      77.35      18.80  피혐의자는 2023. 2. 11. 09:30경 장소를 알 수 없는 곳에서 피해자에게...   \n",
            "\n",
            "      similarity1  similarity2 classification  \n",
            "0        0.475786     0.140248      sentence1  \n",
            "1        0.675382     0.107199      sentence1  \n",
            "2        0.438086     0.149525      sentence1  \n",
            "3        0.393535     0.029001      sentence1  \n",
            "4        0.626167     0.226255      sentence1  \n",
            "...           ...          ...            ...  \n",
            "2345     0.227155     0.107134      sentence1  \n",
            "2346     0.917663     0.259230      sentence1  \n",
            "2347     0.301726     0.874578      sentence2  \n",
            "2348     0.312195     0.969343      sentence2  \n",
            "2349     0.771454     0.259889      sentence1  \n",
            "\n",
            "[2350 rows x 6 columns]\n"
          ]
        },
        {
          "output_type": "execute_result",
          "data": {
            "text/plain": [
              "<Axes: xlabel='classification', ylabel='count'>"
            ]
          },
          "metadata": {},
          "execution_count": 13
        },
        {
          "output_type": "display_data",
          "data": {
            "text/plain": [
              "<Figure size 640x480 with 1 Axes>"
            ],
            "image/png": "[encoded data removed]"
          },
          "metadata": {}
        }
      ]
    },
    {
      "cell_type": "code",
      "source": [
        "\n",
        "df['classification'=='sentence1']\n",
        "\n",
        "\n",
        "\n",
        "# # \"text_con\" 컬럼의 문자열 값만 추출\n",
        "# texts = data['text_con'].tolist()\n",
        "\n",
        "# # TF-IDF 벡터화\n",
        "# vectorizer = TfidfVectorizer()\n",
        "# tfidf_matrix = vectorizer.fit_transform(texts)\n",
        "\n",
        "# # 코사인 유사도 측정\n",
        "# cosine_similarities = cosine_similarity(tfidf_matrix)\n",
        "\n",
        "# # 맨해튼 유사도 측정\n",
        "# manhattan_similarities = 1 / (1 + manhattan_distances(tfidf_matrix))\n",
        "\n",
        "# # 유클리드 유사도 측정\n",
        "# euclidean_similarities = 1 / (1 + euclidean_distances(tfidf_matrix))\n",
        "\n",
        "# # 결과를 데이터프레임으로 저장\n",
        "# results = pd.DataFrame({\n",
        "#     'text_con': texts,\n",
        "#     'cosine_similarity': cosine_similarities.tolist(),\n",
        "#     'manhattan_similarity': manhattan_similarities.tolist(),\n",
        "#     'euclidean_similarity': euclidean_similarities.tolist()\n",
        "# })\n",
        "\n",
        "# 결과를 CSV 파일로 저장\n",
        "#results.to_csv(output_csv_file, index=False)\n"
      ],
      "metadata": {
        "id": "hDPqMhyx5KLY",
        "outputId": "eed9fbc5-6b50-4dbb-a7b7-e9aa8c17c2d7",
        "colab": {
          "base_uri": "https://localhost:8080/",
          "height": 539
        }
      },
      "execution_count": null,
      "outputs": [
        {
          "output_type": "error",
          "ename": "KeyError",
          "evalue": "ignored",
          "traceback": [
            "\u001b[0;31m---------------------------------------------------------------------------\u001b[0m",
            "\u001b[0;31mKeyError\u001b[0m                                  Traceback (most recent call last)",
            "\u001b[0;32m/usr/local/lib/python3.10/dist-packages/pandas/core/indexes/base.py\u001b[0m in \u001b[0;36mget_loc\u001b[0;34m(self, key, method, tolerance)\u001b[0m\n\u001b[1;32m   3801\u001b[0m             \u001b[0;32mtry\u001b[0m\u001b[0;34m:\u001b[0m\u001b[0;34m\u001b[0m\u001b[0;34m\u001b[0m\u001b[0m\n\u001b[0;32m-> 3802\u001b[0;31m                 \u001b[0;32mreturn\u001b[0m \u001b[0mself\u001b[0m\u001b[0;34m.\u001b[0m\u001b[0m_engine\u001b[0m\u001b[0;34m.\u001b[0m\u001b[0mget_loc\u001b[0m\u001b[0;34m(\u001b[0m\u001b[0mcasted_key\u001b[0m\u001b[0;34m)\u001b[0m\u001b[0;34m\u001b[0m\u001b[0;34m\u001b[0m\u001b[0m\n\u001b[0m\u001b[1;32m   3803\u001b[0m             \u001b[0;32mexcept\u001b[0m \u001b[0mKeyError\u001b[0m \u001b[0;32mas\u001b[0m \u001b[0merr\u001b[0m\u001b[0;34m:\u001b[0m\u001b[0;34m\u001b[0m\u001b[0;34m\u001b[0m\u001b[0m\n",
            "\u001b[0;32m/usr/local/lib/python3.10/dist-packages/pandas/_libs/index.pyx\u001b[0m in \u001b[0;36mpandas._libs.index.IndexEngine.get_loc\u001b[0;34m()\u001b[0m\n",
            "\u001b[0;32m/usr/local/lib/python3.10/dist-packages/pandas/_libs/index.pyx\u001b[0m in \u001b[0;36mpandas._libs.index.IndexEngine.get_loc\u001b[0;34m()\u001b[0m\n",
            "\u001b[0;32mpandas/_libs/hashtable_class_helper.pxi\u001b[0m in \u001b[0;36mpandas._libs.hashtable.PyObjectHashTable.get_item\u001b[0;34m()\u001b[0m\n",
            "\u001b[0;32mpandas/_libs/hashtable_class_helper.pxi\u001b[0m in \u001b[0;36mpandas._libs.hashtable.PyObjectHashTable.get_item\u001b[0;34m()\u001b[0m\n",
            "\u001b[0;31mKeyError\u001b[0m: False",
            "\nThe above exception was the direct cause of the following exception:\n",
            "\u001b[0;31mKeyError\u001b[0m                                  Traceback (most recent call last)",
            "\u001b[0;32m<ipython-input-15-3de73889bf77>\u001b[0m in \u001b[0;36m<cell line: 1>\u001b[0;34m()\u001b[0m\n\u001b[0;32m----> 1\u001b[0;31m \u001b[0mdf\u001b[0m\u001b[0;34m[\u001b[0m\u001b[0;34m'classification'\u001b[0m\u001b[0;34m==\u001b[0m\u001b[0;34m'sentence1'\u001b[0m\u001b[0;34m]\u001b[0m\u001b[0;34m\u001b[0m\u001b[0;34m\u001b[0m\u001b[0m\n\u001b[0m\u001b[1;32m      2\u001b[0m \u001b[0;34m\u001b[0m\u001b[0m\n",
            "\u001b[0;32m/usr/local/lib/python3.10/dist-packages/pandas/core/frame.py\u001b[0m in \u001b[0;36m__getitem__\u001b[0;34m(self, key)\u001b[0m\n\u001b[1;32m   3805\u001b[0m             \u001b[0;32mif\u001b[0m \u001b[0mself\u001b[0m\u001b[0;34m.\u001b[0m\u001b[0mcolumns\u001b[0m\u001b[0;34m.\u001b[0m\u001b[0mnlevels\u001b[0m \u001b[0;34m>\u001b[0m \u001b[0;36m1\u001b[0m\u001b[0;34m:\u001b[0m\u001b[0;34m\u001b[0m\u001b[0;34m\u001b[0m\u001b[0m\n\u001b[1;32m   3806\u001b[0m                 \u001b[0;32mreturn\u001b[0m \u001b[0mself\u001b[0m\u001b[0;34m.\u001b[0m\u001b[0m_getitem_multilevel\u001b[0m\u001b[0;34m(\u001b[0m\u001b[0mkey\u001b[0m\u001b[0;34m)\u001b[0m\u001b[0;34m\u001b[0m\u001b[0;34m\u001b[0m\u001b[0m\n\u001b[0;32m-> 3807\u001b[0;31m             \u001b[0mindexer\u001b[0m \u001b[0;34m=\u001b[0m \u001b[0mself\u001b[0m\u001b[0;34m.\u001b[0m\u001b[0mcolumns\u001b[0m\u001b[0;34m.\u001b[0m\u001b[0mget_loc\u001b[0m\u001b[0;34m(\u001b[0m\u001b[0mkey\u001b[0m\u001b[0;34m)\u001b[0m\u001b[0;34m\u001b[0m\u001b[0;34m\u001b[0m\u001b[0m\n\u001b[0m\u001b[1;32m   3808\u001b[0m             \u001b[0;32mif\u001b[0m \u001b[0mis_integer\u001b[0m\u001b[0;34m(\u001b[0m\u001b[0mindexer\u001b[0m\u001b[0;34m)\u001b[0m\u001b[0;34m:\u001b[0m\u001b[0;34m\u001b[0m\u001b[0;34m\u001b[0m\u001b[0m\n\u001b[1;32m   3809\u001b[0m                 \u001b[0mindexer\u001b[0m \u001b[0;34m=\u001b[0m \u001b[0;34m[\u001b[0m\u001b[0mindexer\u001b[0m\u001b[0;34m]\u001b[0m\u001b[0;34m\u001b[0m\u001b[0;34m\u001b[0m\u001b[0m\n",
            "\u001b[0;32m/usr/local/lib/python3.10/dist-packages/pandas/core/indexes/base.py\u001b[0m in \u001b[0;36mget_loc\u001b[0;34m(self, key, method, tolerance)\u001b[0m\n\u001b[1;32m   3802\u001b[0m                 \u001b[0;32mreturn\u001b[0m \u001b[0mself\u001b[0m\u001b[0;34m.\u001b[0m\u001b[0m_engine\u001b[0m\u001b[0;34m.\u001b[0m\u001b[0mget_loc\u001b[0m\u001b[0;34m(\u001b[0m\u001b[0mcasted_key\u001b[0m\u001b[0;34m)\u001b[0m\u001b[0;34m\u001b[0m\u001b[0;34m\u001b[0m\u001b[0m\n\u001b[1;32m   3803\u001b[0m             \u001b[0;32mexcept\u001b[0m \u001b[0mKeyError\u001b[0m \u001b[0;32mas\u001b[0m \u001b[0merr\u001b[0m\u001b[0;34m:\u001b[0m\u001b[0;34m\u001b[0m\u001b[0;34m\u001b[0m\u001b[0m\n\u001b[0;32m-> 3804\u001b[0;31m                 \u001b[0;32mraise\u001b[0m \u001b[0mKeyError\u001b[0m\u001b[0;34m(\u001b[0m\u001b[0mkey\u001b[0m\u001b[0;34m)\u001b[0m \u001b[0;32mfrom\u001b[0m \u001b[0merr\u001b[0m\u001b[0;34m\u001b[0m\u001b[0;34m\u001b[0m\u001b[0m\n\u001b[0m\u001b[1;32m   3805\u001b[0m             \u001b[0;32mexcept\u001b[0m \u001b[0mTypeError\u001b[0m\u001b[0;34m:\u001b[0m\u001b[0;34m\u001b[0m\u001b[0;34m\u001b[0m\u001b[0m\n\u001b[1;32m   3806\u001b[0m                 \u001b[0;31m# If we have a listlike key, _check_indexing_error will raise\u001b[0m\u001b[0;34m\u001b[0m\u001b[0;34m\u001b[0m\u001b[0m\n",
            "\u001b[0;31mKeyError\u001b[0m: False"
          ]
        }
      ]
    }
  ],
  "metadata": {
    "language_info": {
      "name": "python"
    },
    "orig_nbformat": 4,
    "colab": {
      "provenance": [],
      "include_colab_link": true
    },
    "kernelspec": {
      "name": "python3",
      "display_name": "Python 3"
    }
  },
  "nbformat": 4,
  "nbformat_minor": 0
}
